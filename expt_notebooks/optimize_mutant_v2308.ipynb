{
 "cells": [
  {
   "cell_type": "markdown",
   "id": "8ca34abb-bf52-4e6f-9213-23a1b729daa1",
   "metadata": {},
   "source": [
    "# Optimize Mutant V23.08\n",
    "Using Leekiller"
   ]
  },
  {
   "cell_type": "code",
   "execution_count": 1,
   "id": "a0543d42-3782-42f7-9840-b0f2df2688b3",
   "metadata": {},
   "outputs": [],
   "source": [
    "import datetime\n",
    "import sys\n",
    "import pandas as pd\n",
    "import numpy as np\n",
    "import backtrader as bt\n",
    "import backtrader.indicators as ta\n",
    "from mutant.model import Mutant\n",
    "from mutant.strategy import MutantBacktrader\n",
    "from leekiller.optimizer import DE\n",
    "\n",
    "raw_data_path = \"../data/BTCUSD_latest.csv\""
   ]
  },
  {
   "cell_type": "code",
   "execution_count": 2,
   "id": "7327a2d0-9cfb-4580-ab79-f282586b16d1",
   "metadata": {},
   "outputs": [],
   "source": [
    "# Load data\n",
    "dataframe = pd.read_csv(raw_data_path,\n",
    "                                parse_dates=True,\n",
    "                                index_col=0)\n",
    "dataframe.index = pd.to_datetime(dataframe.index, format='ISO8601')"
   ]
  },
  {
   "cell_type": "code",
   "execution_count": 3,
   "id": "c8dd471d-4c1c-47db-b763-05b27a27c39c",
   "metadata": {},
   "outputs": [],
   "source": [
    "init_protfolio_value = 100000.0\n",
    "def objective(control_params):\n",
    "    control_params['tp'] = [0.6]\n",
    "    control_params['sl'] = [1.8]\n",
    "    model = Mutant(**control_params)\n",
    "    control_params.pop('tp')\n",
    "    control_params.pop('sl')\n",
    "    trade_reports = []\n",
    "    # drawdown_reports = []\n",
    "    roi = []\n",
    "    total_sessions = 3\n",
    "    for i in range(total_sessions):\n",
    "        backtest_length = 1440*30\n",
    "        start = np.random.choice(len(dataframe))\n",
    "        while start > len(dataframe)-backtest_length:\n",
    "            start = np.random.choice(len(dataframe))\n",
    "        end = start + backtest_length\n",
    "        df = dataframe.iloc[start:end]\n",
    "        df = df.groupby(pd.Grouper(freq='5Min')).agg({\"open\": \"first\", \n",
    "                                                      \"high\": \"max\",\n",
    "                                                      \"low\": \"min\",\n",
    "                                                      \"close\": \"last\",\n",
    "                                                      \"volume\": \"sum\"})\n",
    "        data = bt.feeds.PandasData(\n",
    "            dataname=df,\n",
    "            datetime=None)\n",
    "        cerebro = bt.Cerebro()\n",
    "        cerebro.addstrategy(MutantBacktrader, model, print_log=False)\n",
    "        cerebro.adddata(data)\n",
    "        cerebro.addanalyzer(bt.analyzers.TradeAnalyzer, _name='mutant_trade')\n",
    "        # cerebro.addanalyzer(bt.analyzers.DrawDown, _name='mutant_drawdown')\n",
    "        cerebro.addsizer(bt.sizers.PercentSizer, percents=10)\n",
    "        cerebro.broker.setcash(init_protfolio_value)\n",
    "        cerebro.broker.setcommission(commission=0.0004)\n",
    "        # print('Starting Portfolio Value: %.2f' % cerebro.broker.getvalue())\n",
    "        results = cerebro.run()\n",
    "        result = results[0]\n",
    "        trade_reports.append(result.analyzers.mutant_trade.get_analysis())\n",
    "        # drawdown_reports.append(result.analyzers.mutant_drawdown.get_analysis())\n",
    "        # print('Final Portfolio Value: %.2f' % cerebro.broker.getvalue())\n",
    "        current_report = trade_reports[-1]\n",
    "        if current_report['total']['total'] > 0 and 'pnl' in current_report.keys():\n",
    "            pnl = current_report['pnl']['net']['total']\n",
    "        else:\n",
    "            pnl = 0\n",
    "        roi.append(pnl/init_protfolio_value * 100)\n",
    "    roi_avg = sum(roi) / len(roi)\n",
    "    return roi_avg"
   ]
  },
  {
   "cell_type": "code",
   "execution_count": 4,
   "id": "7f94cf31-0168-4b4f-b3a0-84ee5b0c9431",
   "metadata": {},
   "outputs": [],
   "source": [
    "model = Mutant()\n",
    "control_params = model.params"
   ]
  },
  {
   "cell_type": "code",
   "execution_count": 5,
   "id": "4da3375f-ad68-4ca3-9fb1-bcea7b4147b7",
   "metadata": {},
   "outputs": [
    {
     "data": {
      "text/plain": [
       "{'ema_1_length': [126],\n",
       " 'ema_2_length': [156],\n",
       " 'ema_3_length': [121],\n",
       " 'macd_fast_length': [45],\n",
       " 'macd_slow_length': [54],\n",
       " 'macd_signal_length': [45],\n",
       " 'macd_average_length': [49],\n",
       " 'rsi_length': [14],\n",
       " 'rsi_long': [51],\n",
       " 'rsi_short': [48]}"
      ]
     },
     "execution_count": 5,
     "metadata": {},
     "output_type": "execute_result"
    }
   ],
   "source": [
    "control_params\n",
    "control_params.pop('tp')\n",
    "control_params.pop('sl')\n",
    "control_params"
   ]
  },
  {
   "cell_type": "code",
   "execution_count": 6,
   "id": "fb2458a0-0bf6-4cda-b6e0-2130f63a782f",
   "metadata": {},
   "outputs": [],
   "source": [
    "control_params_range = {\n",
    "    'ema_1_length': [5, 300],\n",
    "    'ema_2_length': [5, 300],\n",
    "    'ema_3_length': [5, 300],\n",
    "    'macd_fast_length': [5, 300],\n",
    "    'macd_slow_length': [5, 300],\n",
    "    'macd_signal_length': [5, 300],\n",
    "    'macd_average_length': [5, 300],\n",
    "    'rsi_length': [5, 300],\n",
    "    'rsi_long': [10, 90],\n",
    "    'rsi_short': [10, 90]\n",
    "}"
   ]
  },
  {
   "cell_type": "code",
   "execution_count": 7,
   "id": "e02f48b1-4eb8-4aeb-9b31-072b0641e8ad",
   "metadata": {},
   "outputs": [
    {
     "name": "stdout",
     "output_type": "stream",
     "text": [
      "150\n"
     ]
    },
    {
     "data": {
      "text/plain": [
       "{'ema_1_length': array([256]),\n",
       " 'ema_2_length': array([101]),\n",
       " 'ema_3_length': array([194]),\n",
       " 'macd_fast_length': array([35]),\n",
       " 'macd_slow_length': array([44]),\n",
       " 'macd_signal_length': array([187]),\n",
       " 'macd_average_length': array([224]),\n",
       " 'rsi_length': array([215]),\n",
       " 'rsi_long': array([13]),\n",
       " 'rsi_short': array([73])}"
      ]
     },
     "execution_count": 7,
     "metadata": {},
     "output_type": "execute_result"
    }
   ],
   "source": [
    "# Load optimizer\n",
    "optimizer = DE(objective, control_params, control_params_range)\n",
    "optimizer.create_populations()\n",
    "print(optimizer.number_of_populations)\n",
    "optimizer.populations[0]"
   ]
  },
  {
   "cell_type": "code",
   "execution_count": 8,
   "id": "91c7d863-867b-4ec0-95e8-44a922f286e4",
   "metadata": {},
   "outputs": [
    {
     "name": "stdout",
     "output_type": "stream",
     "text": [
      "Start differential evolution...\n",
      "Number of control parameters: 10\n",
      "Populations size: 150\n",
      "==============================\n",
      "# 0/300 iteration, optimized ROI: 0.092301%\n",
      "# 8/300 iteration, optimized ROI: 0.155206%\n",
      "# 10/300 iteration, optimized ROI: 0.236736%\n",
      "# 30/300 iteration, optimized ROI: 0.250028%\n",
      "# 33/300 iteration, optimized ROI: 0.260693%\n",
      "# 50/300 iteration, optimized ROI: 0.378194%\n",
      "# 251/300 iteration, optimized ROI: 0.533452%\n",
      "Finish 300 iterations, optimized ROI: 0.533452%\n",
      "==============================\n"
     ]
    }
   ],
   "source": [
    "optimizer.run(itr=300)"
   ]
  },
  {
   "cell_type": "code",
   "execution_count": null,
   "id": "838b2cfa-aaba-4696-a0ea-055056521919",
   "metadata": {},
   "outputs": [],
   "source": []
  }
 ],
 "metadata": {
  "kernelspec": {
   "display_name": "Python 3 (ipykernel)",
   "language": "python",
   "name": "python3"
  },
  "language_info": {
   "codemirror_mode": {
    "name": "ipython",
    "version": 3
   },
   "file_extension": ".py",
   "mimetype": "text/x-python",
   "name": "python",
   "nbconvert_exporter": "python",
   "pygments_lexer": "ipython3",
   "version": "3.10.12"
  }
 },
 "nbformat": 4,
 "nbformat_minor": 5
}
