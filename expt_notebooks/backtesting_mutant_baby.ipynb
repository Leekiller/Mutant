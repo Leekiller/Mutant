{
 "cells": [
  {
   "cell_type": "markdown",
   "id": "d4d01867-b48e-44fe-873c-53d5b3ada1f0",
   "metadata": {},
   "source": [
    "# Backtesting MutantBaby\n",
    "\n",
    "## Backtest Method\n",
    "    30 days as a group, randomly choose 30 continuos 30 days to see the performance"
   ]
  },
  {
   "cell_type": "code",
   "execution_count": 1,
   "id": "ac40a3ba-978c-436d-8f06-53dfd8b042a8",
   "metadata": {},
   "outputs": [],
   "source": [
    "# from __future__ import (absolute_import, division, print_function,\n",
    "#                         unicode_literals)\n",
    "import datetime\n",
    "# import os.path\n",
    "import sys\n",
    "\n",
    "import pandas as pd\n",
    "import numpy as np\n",
    "import backtrader as bt\n",
    "import backtrader.indicators as ta\n",
    "\n",
    "import matplotlib\n",
    "import tkinter\n",
    "matplotlib.use('TKAgg')\n",
    "# matplotlib.use('QT5Agg')\n",
    "\n",
    "from mutant.model import MutantBaby\n",
    "from mutant.strategy import MutantBacktrader\n",
    "\n",
    "raw_data_path = \"../data/BTCUSD_latest.csv\"\n",
    "# raw_data_path = \"../data/Raw_BTCUSDT1708-2303.csv\""
   ]
  },
  {
   "cell_type": "markdown",
   "id": "0d1d4c5f-7a87-48c9-b92b-ad5835cd5906",
   "metadata": {},
   "source": [
    "## Load data"
   ]
  },
  {
   "cell_type": "code",
   "execution_count": 2,
   "id": "53c38939-935b-4211-894e-455f16fed41d",
   "metadata": {},
   "outputs": [],
   "source": [
    "dataframe = pd.read_csv(raw_data_path,\n",
    "                                parse_dates=True,\n",
    "                                index_col=0)\n",
    "dataframe.index = pd.to_datetime(dataframe.index, format='ISO8601')"
   ]
  },
  {
   "cell_type": "code",
   "execution_count": 3,
   "id": "e826f86c-aaf4-4c5e-9b36-27e62befa05d",
   "metadata": {},
   "outputs": [
    {
     "data": {
      "text/html": [
       "<div>\n",
       "<style scoped>\n",
       "    .dataframe tbody tr th:only-of-type {\n",
       "        vertical-align: middle;\n",
       "    }\n",
       "\n",
       "    .dataframe tbody tr th {\n",
       "        vertical-align: top;\n",
       "    }\n",
       "\n",
       "    .dataframe thead th {\n",
       "        text-align: right;\n",
       "    }\n",
       "</style>\n",
       "<table border=\"1\" class=\"dataframe\">\n",
       "  <thead>\n",
       "    <tr style=\"text-align: right;\">\n",
       "      <th></th>\n",
       "      <th>open</th>\n",
       "      <th>high</th>\n",
       "      <th>low</th>\n",
       "      <th>close</th>\n",
       "      <th>volume</th>\n",
       "    </tr>\n",
       "    <tr>\n",
       "      <th>date</th>\n",
       "      <th></th>\n",
       "      <th></th>\n",
       "      <th></th>\n",
       "      <th></th>\n",
       "      <th></th>\n",
       "    </tr>\n",
       "  </thead>\n",
       "  <tbody>\n",
       "    <tr>\n",
       "      <th>2017-08-17 04:00:00</th>\n",
       "      <td>4261.48</td>\n",
       "      <td>4261.48</td>\n",
       "      <td>4261.48</td>\n",
       "      <td>4261.48</td>\n",
       "      <td>7564.90</td>\n",
       "    </tr>\n",
       "    <tr>\n",
       "      <th>2017-08-17 04:01:00</th>\n",
       "      <td>4261.48</td>\n",
       "      <td>4261.48</td>\n",
       "      <td>4261.48</td>\n",
       "      <td>4261.48</td>\n",
       "      <td>0.00</td>\n",
       "    </tr>\n",
       "    <tr>\n",
       "      <th>2017-08-17 04:02:00</th>\n",
       "      <td>4280.56</td>\n",
       "      <td>4280.56</td>\n",
       "      <td>4280.56</td>\n",
       "      <td>4280.56</td>\n",
       "      <td>1117.54</td>\n",
       "    </tr>\n",
       "    <tr>\n",
       "      <th>2017-08-17 04:03:00</th>\n",
       "      <td>4261.48</td>\n",
       "      <td>4261.48</td>\n",
       "      <td>4261.48</td>\n",
       "      <td>4261.48</td>\n",
       "      <td>51.17</td>\n",
       "    </tr>\n",
       "    <tr>\n",
       "      <th>2017-08-17 04:04:00</th>\n",
       "      <td>4261.48</td>\n",
       "      <td>4261.48</td>\n",
       "      <td>4261.48</td>\n",
       "      <td>4261.48</td>\n",
       "      <td>599.99</td>\n",
       "    </tr>\n",
       "    <tr>\n",
       "      <th>...</th>\n",
       "      <td>...</td>\n",
       "      <td>...</td>\n",
       "      <td>...</td>\n",
       "      <td>...</td>\n",
       "      <td>...</td>\n",
       "    </tr>\n",
       "    <tr>\n",
       "      <th>2023-07-04 21:15:00</th>\n",
       "      <td>30794.96</td>\n",
       "      <td>30794.96</td>\n",
       "      <td>30790.20</td>\n",
       "      <td>30790.21</td>\n",
       "      <td>202250.26</td>\n",
       "    </tr>\n",
       "    <tr>\n",
       "      <th>2023-07-04 21:16:00</th>\n",
       "      <td>30790.21</td>\n",
       "      <td>30791.08</td>\n",
       "      <td>30790.20</td>\n",
       "      <td>30791.08</td>\n",
       "      <td>210922.27</td>\n",
       "    </tr>\n",
       "    <tr>\n",
       "      <th>2023-07-04 21:17:00</th>\n",
       "      <td>30791.08</td>\n",
       "      <td>30791.08</td>\n",
       "      <td>30780.94</td>\n",
       "      <td>30780.95</td>\n",
       "      <td>407579.78</td>\n",
       "    </tr>\n",
       "    <tr>\n",
       "      <th>2023-07-04 21:18:00</th>\n",
       "      <td>30780.94</td>\n",
       "      <td>30789.99</td>\n",
       "      <td>30780.94</td>\n",
       "      <td>30789.98</td>\n",
       "      <td>279630.62</td>\n",
       "    </tr>\n",
       "    <tr>\n",
       "      <th>2023-07-04 21:19:00</th>\n",
       "      <td>30789.98</td>\n",
       "      <td>30790.00</td>\n",
       "      <td>30789.98</td>\n",
       "      <td>30790.00</td>\n",
       "      <td>111261.13</td>\n",
       "    </tr>\n",
       "  </tbody>\n",
       "</table>\n",
       "<p>3062558 rows × 5 columns</p>\n",
       "</div>"
      ],
      "text/plain": [
       "                         open      high       low     close     volume\n",
       "date                                                                  \n",
       "2017-08-17 04:00:00   4261.48   4261.48   4261.48   4261.48    7564.90\n",
       "2017-08-17 04:01:00   4261.48   4261.48   4261.48   4261.48       0.00\n",
       "2017-08-17 04:02:00   4280.56   4280.56   4280.56   4280.56    1117.54\n",
       "2017-08-17 04:03:00   4261.48   4261.48   4261.48   4261.48      51.17\n",
       "2017-08-17 04:04:00   4261.48   4261.48   4261.48   4261.48     599.99\n",
       "...                       ...       ...       ...       ...        ...\n",
       "2023-07-04 21:15:00  30794.96  30794.96  30790.20  30790.21  202250.26\n",
       "2023-07-04 21:16:00  30790.21  30791.08  30790.20  30791.08  210922.27\n",
       "2023-07-04 21:17:00  30791.08  30791.08  30780.94  30780.95  407579.78\n",
       "2023-07-04 21:18:00  30780.94  30789.99  30780.94  30789.98  279630.62\n",
       "2023-07-04 21:19:00  30789.98  30790.00  30789.98  30790.00  111261.13\n",
       "\n",
       "[3062558 rows x 5 columns]"
      ]
     },
     "execution_count": 3,
     "metadata": {},
     "output_type": "execute_result"
    }
   ],
   "source": [
    "dataframe"
   ]
  },
  {
   "cell_type": "code",
   "execution_count": 4,
   "id": "41181639-1739-4889-b857-ee4fc13a262e",
   "metadata": {},
   "outputs": [],
   "source": [
    "load_params = np.load(\"out.npz\", allow_pickle=True)"
   ]
  },
  {
   "cell_type": "code",
   "execution_count": 5,
   "id": "da78483e-2743-48cb-b14c-0d180e066286",
   "metadata": {},
   "outputs": [
    {
     "data": {
      "text/plain": [
       "KeysView(NpzFile 'out.npz' with keys: populations, objective, control_params, op_objective)"
      ]
     },
     "execution_count": 5,
     "metadata": {},
     "output_type": "execute_result"
    }
   ],
   "source": [
    "load_params.keys()"
   ]
  },
  {
   "cell_type": "code",
   "execution_count": 6,
   "id": "dd82de22-7606-4d34-b4e4-9a5f77d3e093",
   "metadata": {},
   "outputs": [
    {
     "data": {
      "text/plain": [
       "{'tp': array([1.28352904]),\n",
       " 'sl': array([0.75406508]),\n",
       " 'ema_1_length': array([34]),\n",
       " 'ema_2_length': array([11]),\n",
       " 'ema_3_length': array([30]),\n",
       " 'macd_fast_length': array([33]),\n",
       " 'macd_slow_length': array([44]),\n",
       " 'macd_signal_length': array([47]),\n",
       " 'rsi_length': array([38]),\n",
       " 'rsi_long': array([66]),\n",
       " 'rsi_short': array([42])}"
      ]
     },
     "execution_count": 6,
     "metadata": {},
     "output_type": "execute_result"
    }
   ],
   "source": [
    "load_params = np.load(\"out-op_control_param.npz\", allow_pickle=True)\n",
    "control_params = {'tp': [0.6], 'sl': [1.8]}\n",
    "for key in load_params:\n",
    "    control_params[key] = load_params[key]\n",
    "\n",
    "control_params"
   ]
  },
  {
   "cell_type": "code",
   "execution_count": 7,
   "id": "1cffbb33-3a9e-4545-b052-1f2ac5273770",
   "metadata": {},
   "outputs": [],
   "source": [
    "# control_params = {\n",
    "#     'tp': np.array([1.84]),\n",
    "#     'sl': np.array([1.23]),\n",
    "#     'ema_1_length': np.array([41]),\n",
    "#     'ema_2_length': np.array([28]),\n",
    "#     'ema_3_length': np.array([82]),\n",
    "#     'macd_fast_length': np.array([31]),\n",
    "#     'macd_slow_length': np.array([42]),\n",
    "#     'macd_signal_length': np.array([22]),\n",
    "#     'rsi_length': np.array([43]),\n",
    "#     'rsi_long': np.array([44]),\n",
    "#     'rsi_short': np.array([47])\n",
    "# }"
   ]
  },
  {
   "cell_type": "code",
   "execution_count": 8,
   "id": "318323e4-d8c8-414e-844d-a8b3c5000c0f",
   "metadata": {},
   "outputs": [
    {
     "name": "stdout",
     "output_type": "stream",
     "text": [
      "{'tp': [0.6], 'sl': [1.8], 'ema_1_length': [126], 'ema_2_length': [156], 'ema_3_length': [121], 'macd_fast_length': [45], 'macd_slow_length': [54], 'macd_signal_length': [45], 'rsi_length': [14], 'rsi_long': [51], 'rsi_short': [48]}\n",
      "{'tp': array([1.28352904]), 'sl': array([0.75406508]), 'ema_1_length': array([34]), 'ema_2_length': array([11]), 'ema_3_length': array([30]), 'macd_fast_length': array([33]), 'macd_slow_length': array([44]), 'macd_signal_length': array([47]), 'rsi_length': array([38]), 'rsi_long': array([66]), 'rsi_short': array([42])}\n"
     ]
    }
   ],
   "source": [
    "model = Mutant()\n",
    "print(model.params)\n",
    "model.update_params(control_params)\n",
    "print(model.params)"
   ]
  },
  {
   "cell_type": "code",
   "execution_count": 9,
   "id": "8f27f6cf-d5a6-4fb0-a00e-989aa90a7f22",
   "metadata": {},
   "outputs": [
    {
     "name": "stdout",
     "output_type": "stream",
     "text": [
      "TP: 1.2835290378577748 , SL: 0.754065077877389\n"
     ]
    }
   ],
   "source": [
    "print(\"TP:\", model.tp, \", SL:\", model.sl)"
   ]
  },
  {
   "cell_type": "code",
   "execution_count": 10,
   "id": "ced94d09-ce5b-44a5-b4e3-1e0b9968fbe4",
   "metadata": {},
   "outputs": [
    {
     "name": "stdout",
     "output_type": "stream",
     "text": [
      "Starting Portfolio Value: 100000.00\n",
      "Final Portfolio Value: 100000.00\n",
      "Starting Portfolio Value: 100000.00\n",
      "Final Portfolio Value: 100000.00\n",
      "Starting Portfolio Value: 100000.00\n",
      "Final Portfolio Value: 100000.00\n",
      "Starting Portfolio Value: 100000.00\n",
      "Final Portfolio Value: 100000.00\n",
      "Starting Portfolio Value: 100000.00\n",
      "Final Portfolio Value: 100000.00\n",
      "Starting Portfolio Value: 100000.00\n",
      "Final Portfolio Value: 100000.00\n",
      "Starting Portfolio Value: 100000.00\n",
      "Final Portfolio Value: 100000.00\n",
      "Starting Portfolio Value: 100000.00\n",
      "Final Portfolio Value: 100000.00\n",
      "Starting Portfolio Value: 100000.00\n",
      "Final Portfolio Value: 100000.00\n",
      "Starting Portfolio Value: 100000.00\n",
      "Final Portfolio Value: 100000.00\n",
      "Starting Portfolio Value: 100000.00\n",
      "Final Portfolio Value: 99377.68\n",
      "Starting Portfolio Value: 100000.00\n",
      "Final Portfolio Value: 100000.00\n",
      "Starting Portfolio Value: 100000.00\n",
      "Final Portfolio Value: 100000.00\n",
      "Starting Portfolio Value: 100000.00\n",
      "Final Portfolio Value: 100000.00\n",
      "Starting Portfolio Value: 100000.00\n",
      "Final Portfolio Value: 100000.00\n",
      "Starting Portfolio Value: 100000.00\n",
      "Final Portfolio Value: 100000.00\n",
      "Starting Portfolio Value: 100000.00\n",
      "Final Portfolio Value: 100000.00\n",
      "Starting Portfolio Value: 100000.00\n",
      "Final Portfolio Value: 100000.00\n",
      "Starting Portfolio Value: 100000.00\n",
      "Final Portfolio Value: 100000.00\n",
      "Starting Portfolio Value: 100000.00\n",
      "Final Portfolio Value: 100000.00\n",
      "Starting Portfolio Value: 100000.00\n",
      "Final Portfolio Value: 100000.00\n",
      "Starting Portfolio Value: 100000.00\n",
      "Final Portfolio Value: 100000.00\n",
      "Starting Portfolio Value: 100000.00\n",
      "Final Portfolio Value: 100000.00\n",
      "Starting Portfolio Value: 100000.00\n",
      "Final Portfolio Value: 100000.00\n"
     ]
    }
   ],
   "source": [
    "trade_reports = []\n",
    "sharp_reports = []\n",
    "drawdown_reports = []\n",
    "total_sessions = 24\n",
    "for i in range(total_sessions):\n",
    "    backtest_length = 1440*30\n",
    "    start = np.random.choice(len(dataframe) - backtest_length)\n",
    "    end = start + backtest_length\n",
    "    df = dataframe.iloc[start:end]\n",
    "    df = df.groupby(pd.Grouper(freq='5Min')).agg({\"open\": \"first\", \n",
    "                                                  \"high\": \"max\",\n",
    "                                                  \"low\": \"min\",\n",
    "                                                  \"close\": \"last\",\n",
    "                                                  \"volume\": \"sum\"})\n",
    "    data = bt.feeds.PandasData(dataname=df, datetime=None,)\n",
    "    cerebro = bt.Cerebro()\n",
    "    cerebro.addstrategy(MutantBacktrader, model, print_log=False)\n",
    "    cerebro.adddata(data)\n",
    "    cerebro.addanalyzer(bt.analyzers.TradeAnalyzer, _name='mutant_trade')\n",
    "    cerebro.addanalyzer(bt.analyzers.DrawDown, _name='mutant_drawdown')\n",
    "    cerebro.addanalyzer(\n",
    "        bt.analyzers.SharpeRatio,\n",
    "        timeframe=bt.TimeFrame.Days, \n",
    "        compression=1, \n",
    "        factor=365,\n",
    "        annualize =True,\n",
    "        _name='mutant_sharpe'\n",
    "    )\n",
    "    cerebro.addsizer(bt.sizers.PercentSizer, percents=99)\n",
    "    cerebro.broker.setcash(100000.0)\n",
    "    cerebro.broker.setcommission(commission=0.0004)\n",
    "    print('Starting Portfolio Value: %.2f' % cerebro.broker.getvalue())\n",
    "    results = cerebro.run()\n",
    "    result = results[0]\n",
    "    trade_reports.append(result.analyzers.mutant_trade.get_analysis())\n",
    "    sharp_reports.append(result.analyzers.mutant_sharpe.get_analysis())\n",
    "    drawdown_reports.append(result.analyzers.mutant_drawdown.get_analysis())\n",
    "    print('Final Portfolio Value: %.2f' % cerebro.broker.getvalue())"
   ]
  },
  {
   "cell_type": "code",
   "execution_count": 11,
   "id": "4921bf27-2887-456a-93d3-3d4fef52b2fd",
   "metadata": {},
   "outputs": [
    {
     "data": {
      "text/plain": [
       "[OrderedDict([('sharperatio', None)]),\n",
       " OrderedDict([('sharperatio', None)]),\n",
       " OrderedDict([('sharperatio', None)]),\n",
       " OrderedDict([('sharperatio', None)]),\n",
       " OrderedDict([('sharperatio', None)]),\n",
       " OrderedDict([('sharperatio', None)]),\n",
       " OrderedDict([('sharperatio', None)]),\n",
       " OrderedDict([('sharperatio', None)]),\n",
       " OrderedDict([('sharperatio', None)]),\n",
       " OrderedDict([('sharperatio', None)]),\n",
       " OrderedDict([('sharperatio', -3.9617507633730114)]),\n",
       " OrderedDict([('sharperatio', None)]),\n",
       " OrderedDict([('sharperatio', None)]),\n",
       " OrderedDict([('sharperatio', None)]),\n",
       " OrderedDict([('sharperatio', None)]),\n",
       " OrderedDict([('sharperatio', nan)]),\n",
       " OrderedDict([('sharperatio', None)]),\n",
       " OrderedDict([('sharperatio', None)]),\n",
       " OrderedDict([('sharperatio', None)]),\n",
       " OrderedDict([('sharperatio', None)]),\n",
       " OrderedDict([('sharperatio', None)]),\n",
       " OrderedDict([('sharperatio', None)]),\n",
       " OrderedDict([('sharperatio', None)]),\n",
       " OrderedDict([('sharperatio', None)])]"
      ]
     },
     "execution_count": 11,
     "metadata": {},
     "output_type": "execute_result"
    }
   ],
   "source": [
    "sharp_reports"
   ]
  },
  {
   "cell_type": "code",
   "execution_count": 12,
   "id": "163859e0-77a7-40c8-911c-bb752d4faf71",
   "metadata": {},
   "outputs": [],
   "source": [
    "\"\"\" Trade report is provided by Backtrader.analyzers.TradeAnalyzer\n",
    "\n",
    "\"\"\"\n",
    "def get_win_rate(trade_raport):\n",
    "    \"\"\" Get the win rate from trade report\n",
    "    \n",
    "    Win rate = number of win trades / number of total trades\n",
    "    \"\"\"\n",
    "    total_trades = trade_raport['total']['total']\n",
    "    win_trades = trade_raport['won']['total']\n",
    "    win_rate = win_trades / total_trades\n",
    "    return win_rate\n",
    "\n",
    "def get_roi(trade_raport, init_protfolio_value=100000.0):\n",
    "    \"\"\" Get the ROI from trade report\n",
    "\n",
    "    ROI = PNL / Initial Portfolio Value\n",
    "    \"\"\"\n",
    "    pnl = trade_raport['pnl']['net']['total']\n",
    "    roi = pnl / init_protfolio_value\n",
    "    return roi\n",
    "\n",
    "def get_drawdown(drawdown_report):\n",
    "    \"\"\" Get the drawdown from drawdown report\n",
    "\n",
    "    \"\"\"\n",
    "    drawdown = drawdown_report['drawdown']\n",
    "    return drawdown"
   ]
  },
  {
   "cell_type": "code",
   "execution_count": 13,
   "id": "dc0cc23d-747e-4179-8329-2422da58e8f9",
   "metadata": {},
   "outputs": [
    {
     "name": "stdout",
     "output_type": "stream",
     "text": [
      "No trade.\n",
      "No trade.\n",
      "No trade.\n",
      "No trade.\n",
      "No trade.\n",
      "No trade.\n",
      "No trade.\n",
      "No trade.\n",
      "No trade.\n",
      "No trade.\n",
      "total_trades: 1, win_rate: 0.00,  roi: -0.62%, drawdown: 0.62%.\n",
      "No trade.\n",
      "No trade.\n",
      "No trade.\n",
      "No trade.\n",
      "No trade.\n",
      "No trade.\n",
      "No trade.\n",
      "No trade.\n",
      "No trade.\n",
      "No trade.\n",
      "No trade.\n",
      "No trade.\n",
      "No trade.\n",
      "sessions_win_rate: 0.00%, roi_avg: -0.0062%.\n"
     ]
    }
   ],
   "source": [
    "sessions_win = 0\n",
    "sessions_win_rate = 0\n",
    "roi_s = []\n",
    "for i in range(total_sessions):\n",
    "    trade_report = trade_reports[i]\n",
    "    if trade_report['total']['total'] > 0:\n",
    "        drawdown_report = drawdown_reports[i]\n",
    "        win_rate = get_win_rate(trade_report)\n",
    "        roi = get_roi(trade_report)\n",
    "        roi_s.append(roi)\n",
    "        if roi > 0:\n",
    "            sessions_win += 1\n",
    "        drawdown = get_drawdown(drawdown_report)\n",
    "        print(\"total_trades: {}, win_rate: {:.2f},  roi: {:.2f}%, drawdown: {:.2f}%.\".format(trade_report['total']['total'], win_rate, roi*100, drawdown))\n",
    "    else:\n",
    "        print(\"No trade.\")\n",
    "        \n",
    "sessions_win_rate = sessions_win/total_sessions * 100\n",
    "roi_avg = sum(roi_s) / len(roi_s)\n",
    "print(\"sessions_win_rate: {:.2f}%, roi_avg: {:.4f}%.\".format(sessions_win_rate, roi_avg)) "
   ]
  },
  {
   "cell_type": "code",
   "execution_count": null,
   "id": "414c5e0a-7354-471a-93fe-aae72b30fe73",
   "metadata": {},
   "outputs": [],
   "source": []
  }
 ],
 "metadata": {
  "kernelspec": {
   "display_name": "Python 3 (ipykernel)",
   "language": "python",
   "name": "python3"
  },
  "language_info": {
   "codemirror_mode": {
    "name": "ipython",
    "version": 3
   },
   "file_extension": ".py",
   "mimetype": "text/x-python",
   "name": "python",
   "nbconvert_exporter": "python",
   "pygments_lexer": "ipython3",
   "version": "3.10.12"
  }
 },
 "nbformat": 4,
 "nbformat_minor": 5
}
